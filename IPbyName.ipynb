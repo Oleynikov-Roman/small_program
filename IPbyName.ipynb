{
 "cells": [
  {
   "cell_type": "markdown",
   "id": "d1701d23",
   "metadata": {},
   "source": [
    "# Получаем IP сайта по названию"
   ]
  },
  {
   "cell_type": "code",
   "execution_count": 15,
   "id": "038108b6",
   "metadata": {},
   "outputs": [],
   "source": [
    "import socket\n",
    "\n",
    "def get_ip_by_hostname():\n",
    "    hostname=input('Введите название сайта: ') #в переменную попадает имя нужного сайта\n",
    "    try:\n",
    "        return f'Hostname: {hostname}\\nIp address {socket.gethostbyname(hostname)}'#getgostbyname возвращает ip-address\n",
    "    except socket.gaierror as error:# обработка ошибок\n",
    "        return f'Неверное имя - {error}'"
   ]
  },
  {
   "cell_type": "code",
   "execution_count": 16,
   "id": "29b4c2f9",
   "metadata": {},
   "outputs": [
    {
     "name": "stdout",
     "output_type": "stream",
     "text": [
      "Введите название сайта: google.com\n",
      "Hostname: google.com\n",
      "Ip address 142.251.1.101\n"
     ]
    }
   ],
   "source": [
    "print(get_ip_by_hostname())"
   ]
  }
 ],
 "metadata": {
  "kernelspec": {
   "display_name": "Python 3",
   "language": "python",
   "name": "python3"
  },
  "language_info": {
   "codemirror_mode": {
    "name": "ipython",
    "version": 3
   },
   "file_extension": ".py",
   "mimetype": "text/x-python",
   "name": "python",
   "nbconvert_exporter": "python",
   "pygments_lexer": "ipython3",
   "version": "3.8.8"
  }
 },
 "nbformat": 4,
 "nbformat_minor": 5
}
