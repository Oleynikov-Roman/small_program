{
 "cells": [
  {
   "cell_type": "code",
   "execution_count": 6,
   "id": "253f6ecf",
   "metadata": {},
   "outputs": [
    {
     "name": "stdout",
     "output_type": "stream",
     "text": [
      "Requirement already satisfied: pillow in d:\\anaconda\\lib\\site-packages (8.2.0)\n",
      "Requirement already satisfied: qrcode in d:\\anaconda\\lib\\site-packages (7.3.1)\n",
      "Requirement already satisfied: colorama in d:\\anaconda\\lib\\site-packages (from qrcode) (0.4.4)\n"
     ]
    }
   ],
   "source": [
    "! pip install pillow qrcode"
   ]
  },
  {
   "cell_type": "markdown",
   "id": "72917941",
   "metadata": {},
   "source": [
    "# QR по названию сайта"
   ]
  },
  {
   "cell_type": "markdown",
   "id": "65da8ae1",
   "metadata": {},
   "source": [
    "Данная программа возвращает qr-код для заданного сайта,а также,если нужно,сохраняет его в качестве png файла"
   ]
  },
  {
   "cell_type": "code",
   "execution_count": 3,
   "id": "40354b89",
   "metadata": {},
   "outputs": [],
   "source": [
    "import qrcode as qr"
   ]
  },
  {
   "cell_type": "code",
   "execution_count": 11,
   "id": "82529a7a",
   "metadata": {},
   "outputs": [
    {
     "data": {
      "image/png": "[encoded data removed]",
      "text/plain": [
       "<qrcode.image.pil.PilImage at 0x1f0c72e6c40>"
      ]
     },
     "execution_count": 11,
     "metadata": {},
     "output_type": "execute_result"
    }
   ],
   "source": [
    "def make_qr(url,bool_file):\n",
    "    filename='qr.png'# задаем имя файла,если пользователь хочет сохранить qr-код\n",
    "    img=qr.make(url)#данной функцией библиотека qrcode преобразует ссылку в qr-код\n",
    "    if(bool_file):#тут,в случае,если пользователь ввел True,то картинку сохранится\n",
    "        img.save(filename)\n",
    "    return img\n",
    "make_qr('google.com',False)\n"
   ]
  },
  {
   "cell_type": "code",
   "execution_count": 13,
   "id": "33f52337",
   "metadata": {},
   "outputs": [
    {
     "data": {
      "image/png": "[encoded data removed]",
      "text/plain": [
       "<qrcode.image.pil.PilImage at 0x1f0c72e6d00>"
      ]
     },
     "execution_count": 13,
     "metadata": {},
     "output_type": "execute_result"
    }
   ],
   "source": [
    "make_qr('yandex.com',True)#файл под именем qr.png был сохранен в ту же папку,где находится программа"
   ]
  }
 ],
 "metadata": {
  "kernelspec": {
   "display_name": "Python 3",
   "language": "python",
   "name": "python3"
  },
  "language_info": {
   "codemirror_mode": {
    "name": "ipython",
    "version": 3
   },
   "file_extension": ".py",
   "mimetype": "text/x-python",
   "name": "python",
   "nbconvert_exporter": "python",
   "pygments_lexer": "ipython3",
   "version": "3.8.8"
  }
 },
 "nbformat": 4,
 "nbformat_minor": 5
}
